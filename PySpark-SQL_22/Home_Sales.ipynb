{
 "cells": [
  {
   "cell_type": "code",
   "execution_count": null,
   "metadata": {},
   "outputs": [],
   "source": [
    "# Install PySpark via pip\n",
    "!pip install pyspark"
   ]
  },
  {
   "cell_type": "code",
   "execution_count": 1,
   "metadata": {
    "colab": {
     "base_uri": "https://localhost:8080/"
    },
    "executionInfo": {
     "elapsed": 63032,
     "status": "ok",
     "timestamp": 1724879042879,
     "user": {
      "displayName": "Stoy Trivia",
      "userId": "13515650624495821500"
     },
     "user_tz": 420
    },
    "id": "OqBEzVFBy-x1",
    "outputId": "12d6cede-e129-4ca0-d3f2-cfd2fdf4d751"
   },
   "outputs": [
    {
     "name": "stdout",
     "output_type": "stream",
     "text": [
      "W: Skipping acquire of configured file 'main/source/Sources' as repository 'https://r2u.stat.illinois.edu/ubuntu jammy InRelease' does not seem to provide it (sources.list entry misspelt?)\n"
     ]
    }
   ],
   "source": [
    "from pyspark.sql import SparkSession\n",
    "\n",
    "# Create a Spark session\n",
    "spark = SparkSession.builder.master(\"local[*]\").appName(\"Colab Spark App\").getOrCreate()\n",
    "\n",
    "# Print the Spark version to confirm\n",
    "print(\"Spark version:\", spark.version)"
   ]
  },
  {
   "cell_type": "code",
   "execution_count": 3,
   "metadata": {
    "executionInfo": {
     "elapsed": 8453,
     "status": "ok",
     "timestamp": 1724879068729,
     "user": {
      "displayName": "Stoy Trivia",
      "userId": "13515650624495821500"
     },
     "user_tz": 420
    },
    "id": "2XbWNf1Te5fM"
   },
   "outputs": [],
   "source": [
    "# Import packages\n",
    "from pyspark.sql import SparkSession\n",
    "import time\n",
    "\n",
    "# Create a SparkSession\n",
    "spark = SparkSession.builder.appName(\"SparkSQL\").getOrCreate()"
   ]
  },
  {
   "cell_type": "code",
   "execution_count": 7,
   "metadata": {
    "executionInfo": {
     "elapsed": 481,
     "status": "ok",
     "timestamp": 1724879602501,
     "user": {
      "displayName": "Stoy Trivia",
      "userId": "13515650624495821500"
     },
     "user_tz": 420
    },
    "id": "wOJqxG_RPSwp"
   },
   "outputs": [],
   "source": [
    "# 1. Read in the AWS S3 bucket into a DataFrame.\n",
    "from pyspark import SparkFiles\n",
    "url = \"https://2u-data-curriculum-team.s3.amazonaws.com/dataviz-classroom/v1.2/22-big-data/home_sales_revised.csv\"\n",
    "\n",
    "spark.sparkContext.addFile(url)\n",
    "df = spark.read.csv(SparkFiles.get(\"home_sales_revised.csv\"), sep=\",\", header=True)"
   ]
  },
  {
   "cell_type": "code",
   "execution_count": 8,
   "metadata": {
    "colab": {
     "base_uri": "https://localhost:8080/"
    },
    "executionInfo": {
     "elapsed": 882,
     "status": "ok",
     "timestamp": 1724879606926,
     "user": {
      "displayName": "Stoy Trivia",
      "userId": "13515650624495821500"
     },
     "user_tz": 420
    },
    "id": "RoljcJ7WPpnm",
    "outputId": "cfc4d41e-4dc3-4641-be3e-4c37f7657a49"
   },
   "outputs": [
    {
     "name": "stdout",
     "output_type": "stream",
     "text": [
      "+--------------------+----------+----------+------+--------+---------+-----------+--------+------+----------+----+\n",
      "|                  id|      date|date_built| price|bedrooms|bathrooms|sqft_living|sqft_lot|floors|waterfront|view|\n",
      "+--------------------+----------+----------+------+--------+---------+-----------+--------+------+----------+----+\n",
      "|f8a53099-ba1c-47d...|2022-04-08|      2016|936923|       4|        3|       3167|   11733|     2|         1|  76|\n",
      "|7530a2d8-1ae3-451...|2021-06-13|      2013|379628|       2|        2|       2235|   14384|     1|         0|  23|\n",
      "|43de979c-0bf0-4c9...|2019-04-12|      2014|417866|       2|        2|       2127|   10575|     2|         0|   0|\n",
      "|b672c137-b88c-48b...|2019-10-16|      2016|239895|       2|        2|       1631|   11149|     2|         0|   0|\n",
      "|e0726d4d-d595-407...|2022-01-08|      2017|424418|       3|        2|       2249|   13878|     2|         0|   4|\n",
      "+--------------------+----------+----------+------+--------+---------+-----------+--------+------+----------+----+\n",
      "\n"
     ]
    }
   ],
   "source": [
    "# 2. Create a temporary view of the DataFrame.\n",
    "df.createOrReplaceTempView(\"home_sales\")\n",
    "spark.sql(\"SELECT * FROM home_sales LIMIT 5\").show()\n"
   ]
  },
  {
   "cell_type": "code",
   "execution_count": 10,
   "metadata": {
    "colab": {
     "base_uri": "https://localhost:8080/"
    },
    "executionInfo": {
     "elapsed": 2876,
     "status": "ok",
     "timestamp": 1724880229318,
     "user": {
      "displayName": "Stoy Trivia",
      "userId": "13515650624495821500"
     },
     "user_tz": 420
    },
    "id": "L6fkwOeOmqvq",
    "outputId": "03e47106-f33c-42a6-e668-33fc25ccf5c0"
   },
   "outputs": [
    {
     "name": "stdout",
     "output_type": "stream",
     "text": [
      "+----+---------+\n",
      "|Year|Avg_Price|\n",
      "+----+---------+\n",
      "|2019| 300263.7|\n",
      "|2020|298353.78|\n",
      "|2021|301819.44|\n",
      "|2022|296363.88|\n",
      "+----+---------+\n",
      "\n"
     ]
    }
   ],
   "source": [
    "# 3. What is the average price for a four bedroom house sold per year, rounded to two decimal places?\n",
    "avg_4br = spark.sql(\"\"\"\n",
    "  select year(date) AS Year, Round(AVG(price), 2) as Avg_Price\n",
    "  from home_sales\n",
    "  where bedrooms = 4\n",
    "  Group By year(date)\n",
    "  Order By Year\n",
    "\"\"\")\n",
    "\n",
    "avg_4br.show()\n"
   ]
  },
  {
   "cell_type": "code",
   "execution_count": 11,
   "metadata": {
    "colab": {
     "base_uri": "https://localhost:8080/"
    },
    "executionInfo": {
     "elapsed": 1438,
     "status": "ok",
     "timestamp": 1724881981755,
     "user": {
      "displayName": "Stoy Trivia",
      "userId": "13515650624495821500"
     },
     "user_tz": 420
    },
    "id": "l8p_tUS8h8it",
    "outputId": "9099530d-30ad-4bc4-8d55-a6c216f4873c"
   },
   "outputs": [
    {
     "name": "stdout",
     "output_type": "stream",
     "text": [
      "+----+---------+\n",
      "|Year|Avg_Price|\n",
      "+----+---------+\n",
      "|2010|292859.62|\n",
      "|2011|291117.47|\n",
      "|2012|293683.19|\n",
      "|2013|295962.27|\n",
      "|2014|290852.27|\n",
      "|2015| 288770.3|\n",
      "|2016|290555.07|\n",
      "|2017|292676.79|\n",
      "+----+---------+\n",
      "\n"
     ]
    }
   ],
   "source": [
    "# 4. What is the average price of a home for each year the home was built,\n",
    "# that have 3 bedrooms and 3 bathrooms, rounded to two decimal places?\n",
    "avg_3br = spark.sql(\"\"\"\n",
    "  select date_built AS Year, Round(AVG(price), 2) as Avg_Price\n",
    "  from home_sales\n",
    "  where bedrooms = 3 and bathrooms = 3\n",
    "  Group By date_built\n",
    "  Order By Year\n",
    "\"\"\")\n",
    "\n",
    "avg_3br.show()\n"
   ]
  },
  {
   "cell_type": "code",
   "execution_count": 12,
   "metadata": {
    "colab": {
     "base_uri": "https://localhost:8080/"
    },
    "executionInfo": {
     "elapsed": 1238,
     "status": "ok",
     "timestamp": 1724882975616,
     "user": {
      "displayName": "Stoy Trivia",
      "userId": "13515650624495821500"
     },
     "user_tz": 420
    },
    "id": "Y-Eytz64liDU",
    "outputId": "7e126986-467c-401d-df4e-5afd0bbb4497"
   },
   "outputs": [
    {
     "name": "stdout",
     "output_type": "stream",
     "text": [
      "+----+---------+\n",
      "|Year|Avg_Price|\n",
      "+----+---------+\n",
      "|2010|285010.22|\n",
      "|2011|276553.81|\n",
      "|2012|307539.97|\n",
      "|2013|303676.79|\n",
      "|2014|298264.72|\n",
      "|2015|297609.97|\n",
      "|2016| 293965.1|\n",
      "|2017|280317.58|\n",
      "+----+---------+\n",
      "\n"
     ]
    }
   ],
   "source": [
    "# 5. What is the average price of a home for each year the home was built,\n",
    "# that have 3 bedrooms, 3 bathrooms, with two floors,\n",
    "# and are greater than or equal to 2,000 square feet, rounded to two decimal places?\n",
    "avg_3br_2flr = spark.sql(\"\"\"\n",
    "  select date_built AS Year, Round(AVG(price), 2) as Avg_Price\n",
    "  from home_sales\n",
    "  where bedrooms = 3 and bathrooms = 3 and floors = 2 and sqft_living >= 2000\n",
    "  Group By date_built\n",
    "  Order By Year\n",
    "\"\"\")\n",
    "\n",
    "avg_3br_2flr.show()\n"
   ]
  },
  {
   "cell_type": "code",
   "execution_count": 15,
   "metadata": {
    "colab": {
     "base_uri": "https://localhost:8080/"
    },
    "executionInfo": {
     "elapsed": 1476,
     "status": "ok",
     "timestamp": 1724883776537,
     "user": {
      "displayName": "Stoy Trivia",
      "userId": "13515650624495821500"
     },
     "user_tz": 420
    },
    "id": "GUrfgOX1pCRd",
    "outputId": "af74829d-5e4c-4cc8-cca9-d82609e542a9"
   },
   "outputs": [
    {
     "name": "stdout",
     "output_type": "stream",
     "text": [
      "+----+----------+\n",
      "|view| Avg_Price|\n",
      "+----+----------+\n",
      "|  99|1061201.42|\n",
      "|  98|1053739.33|\n",
      "|  97|1129040.15|\n",
      "|  96|1017815.92|\n",
      "|  95| 1054325.6|\n",
      "|  94| 1033536.2|\n",
      "|  93|1026006.06|\n",
      "|  92| 970402.55|\n",
      "|  91|1137372.73|\n",
      "|  90|1062654.16|\n",
      "|  89|1107839.15|\n",
      "|  88|1031719.35|\n",
      "|  87| 1072285.2|\n",
      "|  86|1070444.25|\n",
      "|  85|1056336.74|\n",
      "|  84|1117233.13|\n",
      "|  83|1033965.93|\n",
      "|  82| 1063498.0|\n",
      "|  81|1053472.79|\n",
      "|  80| 991767.38|\n",
      "+----+----------+\n",
      "only showing top 20 rows\n",
      "\n",
      "--- 1.3317687511444092 seconds ---\n"
     ]
    }
   ],
   "source": [
    "# 6. What is the average price of a home per \"view\" rating, rounded to two decimal places,\n",
    "# having an average home price greater than or equal to $350,000? Order by descending view rating.\n",
    "# Although this is a small dataset, determine the run time for this query.\n",
    "\n",
    "start_time = time.time()\n",
    "avg_view_price = spark.sql(\"\"\"\n",
    "  select view as view, Round(AVG(price), 2) as Avg_Price\n",
    "  from home_sales\n",
    "  Group By view\n",
    "  Having AVG(price) >= 350000\n",
    "  Order By view DESC\n",
    "\"\"\")\n",
    "\n",
    "avg_view_price.show()\n",
    "\n",
    "print(\"--- %s seconds ---\" % (time.time() - start_time))"
   ]
  },
  {
   "cell_type": "code",
   "execution_count": 16,
   "metadata": {
    "colab": {
     "base_uri": "https://localhost:8080/"
    },
    "executionInfo": {
     "elapsed": 1662,
     "status": "ok",
     "timestamp": 1724885135269,
     "user": {
      "displayName": "Stoy Trivia",
      "userId": "13515650624495821500"
     },
     "user_tz": 420
    },
    "id": "KAhk3ZD2tFy8",
    "outputId": "14ed84ba-c3c8-4c39-a73a-0d74a2961553"
   },
   "outputs": [
    {
     "data": {
      "text/plain": [
       "DataFrame[]"
      ]
     },
     "execution_count": 16,
     "metadata": {},
     "output_type": "execute_result"
    }
   ],
   "source": [
    "# 7. Cache the the temporary table home_sales.\n",
    "spark.sql(\"CACHE TABLE home_sales\")\n"
   ]
  },
  {
   "cell_type": "code",
   "execution_count": 17,
   "metadata": {
    "colab": {
     "base_uri": "https://localhost:8080/"
    },
    "executionInfo": {
     "elapsed": 173,
     "status": "ok",
     "timestamp": 1724885191553,
     "user": {
      "displayName": "Stoy Trivia",
      "userId": "13515650624495821500"
     },
     "user_tz": 420
    },
    "id": "4opVhbvxtL-i",
    "outputId": "6c482f78-89ca-490f-effb-714d2f2bea4c"
   },
   "outputs": [
    {
     "data": {
      "text/plain": [
       "True"
      ]
     },
     "execution_count": 17,
     "metadata": {},
     "output_type": "execute_result"
    }
   ],
   "source": [
    "# 8. Check if the table is cached.\n",
    "spark.catalog.isCached('home_sales')"
   ]
  },
  {
   "cell_type": "code",
   "execution_count": 18,
   "metadata": {
    "colab": {
     "base_uri": "https://localhost:8080/"
    },
    "executionInfo": {
     "elapsed": 781,
     "status": "ok",
     "timestamp": 1724885325608,
     "user": {
      "displayName": "Stoy Trivia",
      "userId": "13515650624495821500"
     },
     "user_tz": 420
    },
    "id": "5GnL46lwTSEk",
    "outputId": "0db79238-01fd-4c09-e96e-b6e8aac75d9c"
   },
   "outputs": [
    {
     "name": "stdout",
     "output_type": "stream",
     "text": [
      "+----+----------+\n",
      "|view| Avg_Price|\n",
      "+----+----------+\n",
      "|  99|1061201.42|\n",
      "|  98|1053739.33|\n",
      "|  97|1129040.15|\n",
      "|  96|1017815.92|\n",
      "|  95| 1054325.6|\n",
      "|  94| 1033536.2|\n",
      "|  93|1026006.06|\n",
      "|  92| 970402.55|\n",
      "|  91|1137372.73|\n",
      "|  90|1062654.16|\n",
      "|  89|1107839.15|\n",
      "|  88|1031719.35|\n",
      "|  87| 1072285.2|\n",
      "|  86|1070444.25|\n",
      "|  85|1056336.74|\n",
      "|  84|1117233.13|\n",
      "|  83|1033965.93|\n",
      "|  82| 1063498.0|\n",
      "|  81|1053472.79|\n",
      "|  80| 991767.38|\n",
      "+----+----------+\n",
      "only showing top 20 rows\n",
      "\n",
      "--- 0.6209254264831543 seconds ---\n"
     ]
    }
   ],
   "source": [
    "# 9. Using the cached data, run the last query above, that calculates\n",
    "# the average price of a home per \"view\" rating, rounded to two decimal places,\n",
    "# having an average home price greater than or equal to $350,000.\n",
    "# Determine the runtime and compare it to the uncached runtime.\n",
    "\n",
    "start_time = time.time()\n",
    "avg_view_price = spark.sql(\"\"\"\n",
    "  select view as view, Round(AVG(price), 2) as Avg_Price\n",
    "  from home_sales\n",
    "  Group By view\n",
    "  Having AVG(price) >= 350000\n",
    "  Order By view DESC\n",
    "\"\"\")\n",
    "\n",
    "avg_view_price.show()\n",
    "\n",
    "print(\"--- %s seconds ---\" % (time.time() - start_time))\n"
   ]
  },
  {
   "cell_type": "code",
   "execution_count": 19,
   "metadata": {
    "executionInfo": {
     "elapsed": 4576,
     "status": "ok",
     "timestamp": 1724885853169,
     "user": {
      "displayName": "Stoy Trivia",
      "userId": "13515650624495821500"
     },
     "user_tz": 420
    },
    "id": "Qm12WN9isHBR"
   },
   "outputs": [],
   "source": [
    "# 10. Partition by the \"date_built\" field on the formatted parquet home sales data\n",
    "df.write.partitionBy(\"date_built\").mode(\"overwrite\").parquet(\"date_built_partitioned\")"
   ]
  },
  {
   "cell_type": "code",
   "execution_count": 20,
   "metadata": {
    "executionInfo": {
     "elapsed": 506,
     "status": "ok",
     "timestamp": 1724885855784,
     "user": {
      "displayName": "Stoy Trivia",
      "userId": "13515650624495821500"
     },
     "user_tz": 420
    },
    "id": "AZ7BgY61sRqY"
   },
   "outputs": [],
   "source": [
    "# 11. Read the formatted parquet data.\n",
    "df_date_built=spark.read.parquet('date_built_partitioned')"
   ]
  },
  {
   "cell_type": "code",
   "execution_count": 21,
   "metadata": {
    "executionInfo": {
     "elapsed": 151,
     "status": "ok",
     "timestamp": 1724885857949,
     "user": {
      "displayName": "Stoy Trivia",
      "userId": "13515650624495821500"
     },
     "user_tz": 420
    },
    "id": "J6MJkHfvVcvh"
   },
   "outputs": [],
   "source": [
    "# 12. Create a temporary table for the parquet data.\n",
    "df_date_built.createOrReplaceTempView('date_built_partition')"
   ]
  },
  {
   "cell_type": "code",
   "execution_count": 22,
   "metadata": {
    "colab": {
     "base_uri": "https://localhost:8080/"
    },
    "executionInfo": {
     "elapsed": 1370,
     "status": "ok",
     "timestamp": 1724885964939,
     "user": {
      "displayName": "Stoy Trivia",
      "userId": "13515650624495821500"
     },
     "user_tz": 420
    },
    "id": "G_Vhb52rU1Sn",
    "outputId": "fe098c9e-95e1-42a6-90dd-1f5eb1493219"
   },
   "outputs": [
    {
     "name": "stdout",
     "output_type": "stream",
     "text": [
      "+----+----------+\n",
      "|view| Avg_Price|\n",
      "+----+----------+\n",
      "|  99|1061201.42|\n",
      "|  98|1053739.33|\n",
      "|  97|1129040.15|\n",
      "|  96|1017815.92|\n",
      "|  95| 1054325.6|\n",
      "|  94| 1033536.2|\n",
      "|  93|1026006.06|\n",
      "|  92| 970402.55|\n",
      "|  91|1137372.73|\n",
      "|  90|1062654.16|\n",
      "|  89|1107839.15|\n",
      "|  88|1031719.35|\n",
      "|  87| 1072285.2|\n",
      "|  86|1070444.25|\n",
      "|  85|1056336.74|\n",
      "|  84|1117233.13|\n",
      "|  83|1033965.93|\n",
      "|  82| 1063498.0|\n",
      "|  81|1053472.79|\n",
      "|  80| 991767.38|\n",
      "+----+----------+\n",
      "only showing top 20 rows\n",
      "\n",
      "--- 1.1926867961883545 seconds ---\n"
     ]
    }
   ],
   "source": [
    "# 13. Using the parquet DataFrame, run the last query above, that calculates\n",
    "# the average price of a home per \"view\" rating, rounded to two decimal places,\n",
    "# having an average home price greater than or equal to $350,000.\n",
    "# Determine the runtime and compare it to the cached runtime.\n",
    "\n",
    "start_time = time.time()\n",
    "\n",
    "avg_view_price = spark.sql(\"\"\"\n",
    "  select view as view, Round(AVG(price), 2) as Avg_Price\n",
    "  from date_built_partition\n",
    "  Group By view\n",
    "  Having AVG(price) >= 350000\n",
    "  Order By view DESC\n",
    "\"\"\")\n",
    "\n",
    "avg_view_price.show()\n",
    "\n",
    "print(\"--- %s seconds ---\" % (time.time() - start_time))"
   ]
  },
  {
   "cell_type": "code",
   "execution_count": 23,
   "metadata": {
    "colab": {
     "base_uri": "https://localhost:8080/"
    },
    "executionInfo": {
     "elapsed": 167,
     "status": "ok",
     "timestamp": 1724886034535,
     "user": {
      "displayName": "Stoy Trivia",
      "userId": "13515650624495821500"
     },
     "user_tz": 420
    },
    "id": "hjjYzQGjtbq8",
    "outputId": "1d46183e-5f7f-4363-9fef-71bf065e56b1"
   },
   "outputs": [
    {
     "data": {
      "text/plain": [
       "DataFrame[]"
      ]
     },
     "execution_count": 23,
     "metadata": {},
     "output_type": "execute_result"
    }
   ],
   "source": [
    "# 14. Uncache the home_sales temporary table.\n",
    "spark.sql(\"uncache table home_sales\")"
   ]
  },
  {
   "cell_type": "code",
   "execution_count": 24,
   "metadata": {
    "colab": {
     "base_uri": "https://localhost:8080/"
    },
    "executionInfo": {
     "elapsed": 165,
     "status": "ok",
     "timestamp": 1724886036743,
     "user": {
      "displayName": "Stoy Trivia",
      "userId": "13515650624495821500"
     },
     "user_tz": 420
    },
    "id": "Sy9NBvO7tlmm",
    "outputId": "55d427bb-c8ed-4561-82ff-adedf8d0412f"
   },
   "outputs": [
    {
     "data": {
      "text/plain": [
       "False"
      ]
     },
     "execution_count": 24,
     "metadata": {},
     "output_type": "execute_result"
    }
   ],
   "source": [
    "# 15. Check if the home_sales is no longer cached\n",
    "spark.catalog.isCached(\"home_sales\")\n"
   ]
  },
  {
   "cell_type": "code",
   "execution_count": null,
   "metadata": {
    "id": "FA8hN9zZyyEn"
   },
   "outputs": [],
   "source": []
  }
 ],
 "metadata": {
  "colab": {
   "provenance": []
  },
  "kernelspec": {
   "display_name": "Python 3 (ipykernel)",
   "language": "python",
   "name": "python3"
  },
  "language_info": {
   "codemirror_mode": {
    "name": "ipython",
    "version": 3
   },
   "file_extension": ".py",
   "mimetype": "text/x-python",
   "name": "python",
   "nbconvert_exporter": "python",
   "pygments_lexer": "ipython3",
   "version": "3.11.7"
  },
  "nteract": {
   "version": "0.28.0"
  }
 },
 "nbformat": 4,
 "nbformat_minor": 0
}
